{
 "cells": [
  {
   "cell_type": "code",
   "execution_count": null,
   "id": "ce07e2c2-0058-4ec5-8cee-56d54ab82053",
   "metadata": {},
   "outputs": [],
   "source": [
    "import pandas as pd\n",
    "import numpy as np\n",
    "import plotly.graph_objects as go\n",
    "import plotly.express as px\n",
    "import matplotlib.pyplot as plt\n",
    "import seaborn as sns\n",
    "import math"
   ]
  },
  {
   "cell_type": "code",
   "execution_count": null,
   "id": "ee9c2246-c73c-48b2-9b22-be18d510dfe9",
   "metadata": {},
   "outputs": [],
   "source": [
    "df = pd.read_csv(\"Olympics_cleaned5.csv\")\n",
    "noc = pd.read_csv(\"noc_regions.csv\")"
   ]
  },
  {
   "cell_type": "code",
   "execution_count": null,
   "id": "9587b86f-7b58-4ca9-b93d-682a327c831d",
   "metadata": {},
   "outputs": [],
   "source": [
    "noc"
   ]
  },
  {
   "cell_type": "code",
   "execution_count": null,
   "id": "1474d930-265f-450f-af86-e8e5ef6f1c0c",
   "metadata": {},
   "outputs": [],
   "source": [
    "noc[\"region\"].dropna().unique().tolist()"
   ]
  },
  {
   "cell_type": "code",
   "execution_count": null,
   "id": "7d300bcc-4514-41d9-8bd4-5f48c151cc50",
   "metadata": {},
   "outputs": [],
   "source": [
    "noc[\"region\"] = noc[\"region\"].replace(\"UK\",\"United Kingdom(UK)\").replace(\"USA\",\"North America\")"
   ]
  },
  {
   "cell_type": "code",
   "execution_count": null,
   "id": "bed0ba06-c031-4a5b-a9a1-aeb91d7873ee",
   "metadata": {},
   "outputs": [],
   "source": [
    "df[\"region\"] = df[\"region\"].replace(\"UK\",\"United Kingdom(UK)\").replace(\"USA\",\"North America\")"
   ]
  },
  {
   "cell_type": "code",
   "execution_count": null,
   "id": "3b6278c2-e7f9-4105-85e8-58a6b110d6ef",
   "metadata": {},
   "outputs": [],
   "source": [
    "df[(df[\"Year\"] != 2024) & (df[\"Medal\"].isin([\"Gold\",\"Silver\",\"Bronze\"]))][\"Name\"].unique().tolist()"
   ]
  },
  {
   "cell_type": "code",
   "execution_count": null,
   "id": "e1b5ee6f-a946-46dd-8da4-81b808bbffa0",
   "metadata": {},
   "outputs": [],
   "source": [
    "temp"
   ]
  },
  {
   "cell_type": "code",
   "execution_count": null,
   "id": "ae569fe8-e384-4810-9c3e-2f241031ed5d",
   "metadata": {},
   "outputs": [],
   "source": [
    "df[\"Name\"].sort_values().unique()"
   ]
  },
  {
   "cell_type": "code",
   "execution_count": null,
   "id": "31b36484-470e-4f7f-af34-de85da071274",
   "metadata": {},
   "outputs": [],
   "source": []
  },
  {
   "cell_type": "code",
   "execution_count": null,
   "id": "62ee1afb-7f65-4f3a-b2fe-91ec8a23d23a",
   "metadata": {},
   "outputs": [],
   "source": [
    "df[\"Sport\"].sort_values().unique().tolist()"
   ]
  },
  {
   "cell_type": "code",
   "execution_count": null,
   "id": "cfd463bb-8c7c-44b5-ae5f-023086040917",
   "metadata": {},
   "outputs": [],
   "source": []
  },
  {
   "cell_type": "code",
   "execution_count": null,
   "id": "3e4c891f-e488-4cd7-b05f-6f056c2fd982",
   "metadata": {},
   "outputs": [],
   "source": [
    "df[\"region\"].dropna().unique().tolist()"
   ]
  },
  {
   "cell_type": "code",
   "execution_count": null,
   "id": "709a15ec-0e8d-4997-9399-42397ff10f76",
   "metadata": {},
   "outputs": [],
   "source": [
    "df.to_csv(\"olympics_cleaned1.csv\",index = False)"
   ]
  },
  {
   "cell_type": "code",
   "execution_count": null,
   "id": "4667b60d-c780-4080-9de1-c9b6f2732c01",
   "metadata": {},
   "outputs": [],
   "source": [
    "[np.nan] + df[\"region\"].sort_values.dropna().unique().tolist()\n"
   ]
  },
  {
   "cell_type": "code",
   "execution_count": null,
   "id": "6594b1ac-dc50-4ab0-a280-64f15b53bfaa",
   "metadata": {},
   "outputs": [],
   "source": [
    "sorted(df[\"region\"].dropna().unique().tolist().append(math.nan), key=lambda x: float('inf') if math.isnan(x) else x)"
   ]
  },
  {
   "cell_type": "code",
   "execution_count": null,
   "id": "f9c90eb0-d230-4025-a173-04b61a1f32dc",
   "metadata": {},
   "outputs": [],
   "source": [
    "df[\"Year\"].sort_values().unique()"
   ]
  },
  {
   "cell_type": "code",
   "execution_count": null,
   "id": "b975dc75-ea8e-407c-acdc-d4e48fa9ab46",
   "metadata": {},
   "outputs": [],
   "source": [
    "len(df[\"City\"].unique())"
   ]
  },
  {
   "cell_type": "code",
   "execution_count": null,
   "id": "724efade-6bdd-4490-9955-0c1dab37f6b9",
   "metadata": {},
   "outputs": [],
   "source": [
    "len(df[\"Year\"].unique())"
   ]
  },
  {
   "cell_type": "code",
   "execution_count": null,
   "id": "c18b62f6-b782-4a85-bce6-b122306052b0",
   "metadata": {},
   "outputs": [],
   "source": [
    "len(df[\"Event\"].unique())"
   ]
  },
  {
   "cell_type": "code",
   "execution_count": null,
   "id": "8e3d6320-f9a6-40bc-94d1-06e9c2047890",
   "metadata": {},
   "outputs": [],
   "source": [
    "df[\"number_of_medals\"] = df[\"Medal\"].replace(\"No medal\",0).replace(\"Bronze\",1).replace(\"Silver\",1).replace(\"Gold\",1)"
   ]
  },
  {
   "cell_type": "code",
   "execution_count": null,
   "id": "9dd7dcb9-b291-4b21-9ff1-da5da8881e68",
   "metadata": {},
   "outputs": [],
   "source": [
    "df[\"Gold\"] = df[\"Gold\"].fillna(0)\n",
    "df[\"Gold\"] = df[\"Gold\"].replace(\"Gold\",1)\n",
    "df[\"Silver\"] = df[\"Silver\"].fillna(0)\n",
    "df[\"Silver\"] = df[\"Silver\"].replace(\"Silver\",1)\n",
    "df[\"Bronze\"] = df[\"Bronze\"].fillna(0)\n",
    "df[\"Bronze\"] = df[\"Bronze\"].replace(\"Bronze\",1)"
   ]
  },
  {
   "cell_type": "code",
   "execution_count": null,
   "id": "781047e6-f168-4c6a-88e2-37a2634372c0",
   "metadata": {},
   "outputs": [],
   "source": [
    "df"
   ]
  },
  {
   "cell_type": "code",
   "execution_count": null,
   "id": "868e5bf3-e9d1-42a8-ab32-39a5a3cf64cd",
   "metadata": {},
   "outputs": [],
   "source": [
    "df.to_csv(\"olympics_cleaned3.csv\",index = False)"
   ]
  },
  {
   "cell_type": "code",
   "execution_count": null,
   "id": "d5abc51e-f661-460f-b650-47035cc7595c",
   "metadata": {},
   "outputs": [],
   "source": [
    "df.drop_duplicates(subset = [\"Team\",\"NOC\",\"Year\",\"City\",\"Sport\",\"Event\"])"
   ]
  },
  {
   "cell_type": "code",
   "execution_count": null,
   "id": "4e06bfc4-1d29-4f3f-94ca-c50422e03a92",
   "metadata": {},
   "outputs": [],
   "source": [
    "temp = df.drop_duplicates(subset = [\"Team\",\"NOC\",\"Year\",\"Sport\",\"Event\"]).groupby([\"NOC\",\"region\"])[[\"Gold\",\"Silver\",\"Bronze\",\"number_of_medals\"]].sum().sort_values(ascending = False,by = \"number_of_medals\").reset_index()\n"
   ]
  },
  {
   "cell_type": "code",
   "execution_count": null,
   "id": "23b08458-7dbd-4502-aca3-982796624711",
   "metadata": {},
   "outputs": [],
   "source": [
    "df.groupby(\"Year\")[\"Name\"].count().reset_index()"
   ]
  },
  {
   "cell_type": "code",
   "execution_count": null,
   "id": "4ba928f3-1e9c-44cb-9a90-8d01dac64c55",
   "metadata": {},
   "outputs": [],
   "source": [
    "px.line(df.groupby(\"Year\")[\"Name\"].count().reset_index(),\"Year\",\"Name\",range_x = (1896,2024),labels = {\"Name\":\"athlets\"},height = 500,width = 1000 )"
   ]
  },
  {
   "cell_type": "code",
   "execution_count": null,
   "id": "ca74c352-e9b6-47da-b920-337a3a271881",
   "metadata": {},
   "outputs": [],
   "source": [
    "df.groupby([\"Sex\",\"Year\"])[\"Name\"].count().reset_index()\n",
    "# df.groupby(\"Sex\")[\"number_of_medals\"].count().reset_index()\n"
   ]
  },
  {
   "cell_type": "code",
   "execution_count": null,
   "id": "806a21e3-3f09-4d2e-8e28-6cadaddadf09",
   "metadata": {},
   "outputs": [],
   "source": [
    "px.pie(df.groupby(\"Sex\")[\"Name\"].count().reset_index(),values = \"Name\", names = \"Sex\",color_discrete_sequence = [\"#0049F5\",\"#D609D0\"])"
   ]
  },
  {
   "cell_type": "code",
   "execution_count": null,
   "id": "1485709c-ee42-4bcd-bc82-169d8deed4e8",
   "metadata": {},
   "outputs": [],
   "source": [
    "px.line(df.groupby([\"Sex\",\"Year\"])[\"Name\"].count().reset_index(),\"Year\",\"Name\",color = \"Sex\",labels = {\"Name\":\"athlets\"},color_discrete_map={'Male': 'dodgerblue','Female': 'magenta'})"
   ]
  },
  {
   "cell_type": "code",
   "execution_count": null,
   "id": "5c35050d-621b-45b9-b655-f8b42eb1e1f3",
   "metadata": {},
   "outputs": [],
   "source": [
    "df[\"City\"] = df[\"City\"].replace(\"Rio de Janeiro\",\"Rio\")"
   ]
  },
  {
   "cell_type": "code",
   "execution_count": null,
   "id": "9bdaefeb-249a-4c18-a2c3-931605cf889f",
   "metadata": {},
   "outputs": [],
   "source": [
    "df.to_csv(\"olympics_cleaned4.csv\",index = False)"
   ]
  },
  {
   "cell_type": "code",
   "execution_count": null,
   "id": "33db0da0-78d4-4715-b582-72dc1443d782",
   "metadata": {},
   "outputs": [],
   "source": [
    "df[df[\"Year\"] == 2024][\"City\"].values[0]"
   ]
  },
  {
   "cell_type": "code",
   "execution_count": null,
   "id": "3fc3c3fd-31d9-4d65-8de1-1302b6013135",
   "metadata": {},
   "outputs": [],
   "source": [
    "df.groupby(\"Name\")[[\"Sport\",\"Gold\",\"Silver\",\"Bronze\",\"number_of_medals\"]].sum().reset_index()"
   ]
  },
  {
   "cell_type": "code",
   "execution_count": null,
   "id": "b2992a9b-6999-4054-b4a9-bed1e1691730",
   "metadata": {},
   "outputs": [],
   "source": [
    "(df[\"Medals\"] != \"No medal\")\n"
   ]
  },
  {
   "cell_type": "code",
   "execution_count": null,
   "id": "08e9d430-5b7c-4e0d-a7e8-735fcf6c48ba",
   "metadata": {},
   "outputs": [],
   "source": [
    "top_athletes_df = (\n",
    "    df.dropna(subset=['Medal'])\n",
    "    .pipe(lambda d: pd.concat([d, pd.get_dummies(d['Medal'])], axis=1))\n",
    "    .groupby('Name')\n",
    "    .agg(\n",
    "        Sport=('Sport', 'first'),\n",
    "        region=('region', 'first'),\n",
    "        Gold=('Gold', 'sum'),\n",
    "        Silver=('Silver', 'sum'),\n",
    "        Bronze=('Bronze', 'sum')\n",
    "    # )\n",
    "    .assign(Total=lambda d: d['Gold'] + d['Silver'] + d['Bronze'])\n",
    "    .sort_values(by=['Total', 'Gold', 'Silver'], ascending=[False, False, False])\n",
    "    .reset_index()\n",
    ")"
   ]
  },
  {
   "cell_type": "code",
   "execution_count": null,
   "id": "98aa7b21-e749-4d06-ac88-b16a89af2009",
   "metadata": {},
   "outputs": [],
   "source": [
    "df[\"Name\"] = df[\"Name\"].replace(\"Michael Ii\",\"Michael Phelps\").replace(\"Larysa (diriy-)\",\"Larisa Latynina\")"
   ]
  },
  {
   "cell_type": "code",
   "execution_count": null,
   "id": "9e11921a-ac07-460f-82e6-f0ec365dbea1",
   "metadata": {},
   "outputs": [],
   "source": [
    "df.to_csv(\"olympics_cleaned5.csv\",index = False)"
   ]
  },
  {
   "cell_type": "code",
   "execution_count": null,
   "id": "2daa5365-6ad4-4803-8fa7-11b5b45eb21b",
   "metadata": {},
   "outputs": [],
   "source": [
    "df[df[\"Medal\"] != \"No medal\"].groupby([\"Name\",\"region\",\"Sport\"])[[\"Gold\",\"Silver\",\"Bronze\",\"number_of_medals\"]].sum().reset_index().sort_values(ascending = False,by = \"number_of_medals\").rename(columns = {\"region\":\"Country\"})"
   ]
  },
  {
   "cell_type": "code",
   "execution_count": null,
   "id": "98ee5928-912d-4f7f-853a-f662bb5d2f48",
   "metadata": {},
   "outputs": [],
   "source": [
    "df[df[\"Name\"] == \"Michael Phelps\"][[\"player_id\",\"Year\",\"City\",\"Event\",\"Gold\",\"Silver\",\"Bronze\"]].rename(columns = {\"City\":\"Olympic\"}).sort_values(ascending = False,by = \"Year\").reset_index(drop = True)"
   ]
  },
  {
   "cell_type": "code",
   "execution_count": null,
   "id": "aa41fb56-7d89-4de6-87a3-03300880a221",
   "metadata": {},
   "outputs": [],
   "source": [
    "len(df[df[\"Name\"] == \"Michael Phelps\"])"
   ]
  },
  {
   "cell_type": "code",
   "execution_count": null,
   "id": "c4188622-5aff-417c-90a2-596380a4e6e9",
   "metadata": {},
   "outputs": [],
   "source": [
    "df[df[\"Name\"] == \"Michael Phelps\"][\"region\"].values[0]"
   ]
  },
  {
   "cell_type": "code",
   "execution_count": null,
   "id": "1697a743-2b74-4057-8587-08ba750bfe71",
   "metadata": {},
   "outputs": [],
   "source": [
    "df[df[\"Name\"] == \"Michael Phelps\"][\"number_of_medals\"].sum()"
   ]
  },
  {
   "cell_type": "code",
   "execution_count": null,
   "id": "536fb39f-38c7-40fb-9b3e-3ad54e897bce",
   "metadata": {},
   "outputs": [],
   "source": [
    "df[df[\"Name\"] == \"Michael Phelps\"][[\"Gold\",\"Silver\",\"Bronze\"]].sum()"
   ]
  },
  {
   "cell_type": "code",
   "execution_count": null,
   "id": "6b922829-1502-4e1f-9f4c-e8a1a7d72408",
   "metadata": {},
   "outputs": [],
   "source": [
    "df[df[\"Name\"] == \"Michael Phelps\"][\"Sport\"].values[0]"
   ]
  },
  {
   "cell_type": "code",
   "execution_count": null,
   "id": "4e8e13f9-5271-4917-9512-598a95433cfb",
   "metadata": {},
   "outputs": [],
   "source": [
    "df[(df[\"Year\"] == 2024)][[\"region\",\"NOC\"]].drop_duplicates().dropna().reset_index().drop(columns = \"index\")"
   ]
  },
  {
   "cell_type": "code",
   "execution_count": null,
   "id": "17da611f-8729-40f6-9646-f1c08d6ed25c",
   "metadata": {},
   "outputs": [],
   "source": [
    "df[(df[\"Year\"] == 2024)][\"Sport\"].drop_duplicates().sort_values().reset_index().drop(index = [1,17,30,13,14,15,17,18,19,20],columns = \"index\").replace(\"Cycling Road\",\"Cycling\").reset_index(drop = True)"
   ]
  },
  {
   "cell_type": "code",
   "execution_count": null,
   "id": "d4bc77c9-cdca-43da-9379-af9aa1b3b271",
   "metadata": {},
   "outputs": [],
   "source": [
    "len(df[(df[\"Year\"] == 2024)][\"Sport\"].drop_duplicates()) - 18"
   ]
  },
  {
   "cell_type": "code",
   "execution_count": null,
   "id": "170ad98a-3be5-4c6b-8213-c1b549a60139",
   "metadata": {},
   "outputs": [],
   "source": [
    "df[(df[\"Year\"] == 2024)][\"Event\"].drop_duplicates().sort_values().reset_index().drop(columns = \"index\")"
   ]
  },
  {
   "cell_type": "code",
   "execution_count": null,
   "id": "b73a9dfc-5f72-4f9d-9ad3-7b850a29a3fc",
   "metadata": {},
   "outputs": [],
   "source": [
    "df[(df[\"Year\"] == 2024) & (df[\"NOC\"] == \"IND\") & (df[\"number_of_medals\"] != 0)]"
   ]
  },
  {
   "cell_type": "code",
   "execution_count": null,
   "id": "532560a1-2865-4fda-b1e5-0e1a43051f02",
   "metadata": {},
   "outputs": [],
   "source": [
    "df[(df[\"Year\"] == 2024)].drop_duplicates(subset = [\"Sex\",\"Team\",\"NOC\",\"Year\",\"City\",\"Sport\",\"Event\"]).groupby([\"NOC\",\"region\"])[[\"Gold\",\"Silver\",\"Bronze\",\"number_of_medals\"]].sum().sort_values(ascending = False,by = \"number_of_medals\").reset_index().rename(columns = {\"region\":\"Country\"}).head(50)"
   ]
  },
  {
   "cell_type": "code",
   "execution_count": null,
   "id": "c4b74c60-f2b7-48d0-b4e0-23ca242925de",
   "metadata": {},
   "outputs": [],
   "source": [
    ".groupby([\"NOC\",\"region\"])[[\"Gold\",\"Silver\",\"Bronze\",\"number_of_medals\"]].sum().sort_values(ascending = False,by = \"number_of_medals\").reset_index().rename(columns = {\"region\":\"Country\"}).head(50)"
   ]
  },
  {
   "cell_type": "code",
   "execution_count": null,
   "id": "2b166c54-93f4-4383-83c2-7ad9e2fac2ad",
   "metadata": {},
   "outputs": [],
   "source": [
    "df.loc[(df['Year'] == 2020) & (df['Medal'].notna())].drop_duplicates(subset=['Year', 'Event', 'NOC', 'Medal']).groupby('region')['Medal'].value_counts().unstack(fill_value=0).reindex(columns=['Gold', 'Silver', 'Bronze'], fill_value=0).assign(Total=lambda d: d['Gold'] + d['Silver'] + d['Bronze']).sort_values(by=['Total', 'Gold', 'Silver'], ascending=[False, False, False]).head(50)"
   ]
  },
  {
   "cell_type": "code",
   "execution_count": null,
   "id": "1e12b2fb-30cd-420f-ba42-265da4834e16",
   "metadata": {},
   "outputs": [],
   "source": [
    "df[df[\"Year\"] == 2024][\"Name\"].drop_duplicates().sort_values().reset_index().drop(columns = \"index\")"
   ]
  },
  {
   "cell_type": "code",
   "execution_count": null,
   "id": "2de19702-2289-4f31-a58d-198dc047b2a2",
   "metadata": {},
   "outputs": [],
   "source": [
    "df[(df[\"Year\"] == 2024) & (df[\"number_of_medals\"] != 0)].groupby([\"Name\",\"region\",\"Sport\"])[[\"Gold\",\"Silver\",\"Bronze\",\"number_of_medals\"]].sum().reset_index().sort_values(ascending = False,by = \"number_of_medals\").reset_index(drop = True).rename(columns = {\"region\":\"Country\"})"
   ]
  },
  {
   "cell_type": "code",
   "execution_count": null,
   "id": "b1edadbc-18e4-4d68-9042-15aaf6bfe272",
   "metadata": {},
   "outputs": [],
   "source": [
    "df[df[\"region\"] == \"North America\"].drop_duplicates(subset=['Year', 'Event', 'NOC', 'Medal']).groupby(\"Year\")[\"number_of_medals\"].sum().reset_index()"
   ]
  },
  {
   "cell_type": "code",
   "execution_count": null,
   "id": "e75d1dc0-b682-42f7-924e-933e2cd6235d",
   "metadata": {},
   "outputs": [],
   "source": [
    "px.line(df[df[\"region\"] == \"India\"].drop_duplicates(subset=['Year', 'Event', 'NOC', 'Medal']).groupby(\"Year\")[\"number_of_medals\"].sum().reset_index(),\"Year\",\"number_of_medals\",title = \"Year vs Medals obtained graph\",labels = {\"number_of_medals\":\"Medals\"})"
   ]
  },
  {
   "cell_type": "code",
   "execution_count": null,
   "id": "4620e7ac-6742-4eff-ab23-0ebd011ac421",
   "metadata": {},
   "outputs": [],
   "source": [
    "df[df[\"region\"] == \"India\"].drop_duplicates(subset=['Year', 'Event', 'NOC', 'Medal']).groupby(\"Sport\")[\"number_of_medals\"].sum().sort_values(ascending = False).reset_index().head(10)"
   ]
  },
  {
   "cell_type": "code",
   "execution_count": null,
   "id": "d5da2fce-548f-4bcc-b053-00f77a4fd1f2",
   "metadata": {},
   "outputs": [],
   "source": [
    "px.pie(df[df[\"region\"] == \"India\"].drop_duplicates(subset=['Year', 'Event', 'NOC', 'Medal']).groupby(\"Sport\")[\"number_of_medals\"].sum().sort_values(ascending = False).reset_index().head(10),values = \"number_of_medals\",names = \"Sport\")"
   ]
  },
  {
   "cell_type": "code",
   "execution_count": null,
   "id": "06440c4a-999d-4bea-9f62-98bb0e89a026",
   "metadata": {},
   "outputs": [],
   "source": [
    "df[df[\"number_of_medals\"] != 0][\"Name\"].drop_duplicates().sort_values().tolist()"
   ]
  },
  {
   "cell_type": "code",
   "execution_count": null,
   "id": "8c227f10-c846-4667-b0f3-5a9fa5f06aea",
   "metadata": {},
   "outputs": [],
   "source": [
    "temp[(temp[\"Year\"] == 2024) & (temp[\"region\"] == \"India\")].head(20)"
   ]
  },
  {
   "cell_type": "code",
   "execution_count": null,
   "id": "2ada1299-7c5c-4036-aba6-bb450b22f3f4",
   "metadata": {},
   "outputs": [],
   "source": [
    "df[df[\"region\"] == \"North America\"][[\"Name\",\"Sex\",\"Gold\",\"Silver\",\"Bronze\",\"number_of_medals\"]].groupby([\"Name\",\"Sex\"])[[\"Gold\",\"Silver\",\"Bronze\",\"number_of_medals\"]].sum().sort_values(ascending = False,by = \"number_of_medals\").reset_index().drop(columns = \"number_of_medals\")"
   ]
  },
  {
   "cell_type": "code",
   "execution_count": null,
   "id": "9b5d4f99-14e2-4def-b385-2ad7c1176d3c",
   "metadata": {},
   "outputs": [],
   "source": [
    "df"
   ]
  },
  {
   "cell_type": "code",
   "execution_count": null,
   "id": "e44d4ebd-f588-40bb-965f-d5fbe35456ce",
   "metadata": {},
   "outputs": [],
   "source": [
    "df.groupby(\"Sport\")[\"Event\"].nunique().sort_values(ascending = False)"
   ]
  },
  {
   "cell_type": "code",
   "execution_count": null,
   "id": "9d59a5d4-19d4-4aa5-ae01-77287a3e9978",
   "metadata": {},
   "outputs": [],
   "source": [
    "df[df[\"Sport\"] == \"Athletics\"].groupby(\"Year\")[\"Event\"].nunique().reset_index()"
   ]
  },
  {
   "cell_type": "code",
   "execution_count": null,
   "id": "0b03a4cd-8e6d-41a7-b617-b3dad3b2924a",
   "metadata": {},
   "outputs": [],
   "source": [
    "len(df[df[\"Sport\"] == \"Athletics\"][\"Event\"].drop_duplicates())"
   ]
  },
  {
   "cell_type": "code",
   "execution_count": null,
   "id": "0c1d564b-e2f9-488b-b993-7fe76d5af283",
   "metadata": {},
   "outputs": [],
   "source": [
    "px.line(df[df[\"Sport\"] == \"Wrestling\"].groupby(\"Year\")[\"Event\"].nunique().reset_index(),\"Year\",\"Event\")"
   ]
  },
  {
   "cell_type": "code",
   "execution_count": null,
   "id": "54e25fc2-394b-4c79-8bcf-8d619a035627",
   "metadata": {},
   "outputs": [],
   "source": [
    "px.line(df[df[\"Sport\"] == \"Athletics\"][[\"Year\",\"Name\"]].drop_duplicates(subset = \"Name\").groupby(\"Year\")[\"Name\"].count().reset_index(),\"Year\",\"Name\",)"
   ]
  },
  {
   "cell_type": "code",
   "execution_count": null,
   "id": "dbeba916-61bd-47f0-aa17-6ae15414ca50",
   "metadata": {},
   "outputs": [],
   "source": [
    "px.bar(\n",
    "    df[df[\"Sport\"] == \"Athletics\"][[\"Year\",\"Name\"]].drop_duplicates(subset = \"Name\").groupby(\"Year\")[\"Name\"].count().reset_index(),\n",
    "    x=\"Year\",\n",
    "    y=\"Name\",\n",
    "    title=\"Unique Athlete Participation in Athletics Over the Years\",\n",
    "    labels={\"Name\": \"Number of Unique Athletes\", \"Year\": \"Olympic Year\"})"
   ]
  },
  {
   "cell_type": "code",
   "execution_count": null,
   "id": "01619889-23ef-4020-b00c-5d6e735c263a",
   "metadata": {},
   "outputs": [],
   "source": [
    "df[(df[\"Sport\"] == \"Badminton\") & (df[\"number_of_medals\"] != 0)].drop_duplicates(subset=['Year', 'Event', 'NOC', 'Medal']).groupby(\"region\")[\"number_of_medals\"].sum()"
   ]
  },
  {
   "cell_type": "code",
   "execution_count": null,
   "id": "792a6b19-c5fa-40a3-8fbe-2ab614fb5899",
   "metadata": {},
   "outputs": [],
   "source": [
    "px.pie(df[(df[\"Sport\"] == \"Badminton\") & (df[\"number_of_medals\"] != 0)].drop_duplicates(subset=['Year', 'Event', 'NOC', 'Medal']).groupby(\"region\")[\"number_of_medals\"].sum().sort_values(ascending = False).reset_index().head(10),values = \"number_of_medals\",names = \"region\")"
   ]
  },
  {
   "cell_type": "code",
   "execution_count": null,
   "id": "93be7f7d-6199-40c9-9c9d-b4507cea4bb4",
   "metadata": {},
   "outputs": [],
   "source": [
    "df[(df[\"Sport\"] == \"Badminton\") & (df[\"number_of_medals\"] != 0)].drop_duplicates(subset=['Year', 'Event', 'NOC', 'Medal']).groupby(\"region\")[[\"Gold\",\"Silver\",\"Bronze\",\"number_of_medals\"]].sum().sort_values(ascending = False,by = \"number_of_medals\").reset_index().drop(columns = \"number_of_medals\").rename(columns = {\"region\":\"country\"})"
   ]
  },
  {
   "cell_type": "code",
   "execution_count": null,
   "id": "617c3c71-c040-4174-9304-9a48e6d0f739",
   "metadata": {},
   "outputs": [],
   "source": [
    "df[(df[\"Sport\"] == \"Badminton\") & (df[\"number_of_medals\"] != 0)][[\"Name\",\"Sex\",\"region\",\"Gold\",\"Silver\",\"Bronze\",\"number_of_medals\"]].groupby([\"Name\",\"Sex\",\"region\"])[[\"Gold\",\"Silver\",\"Bronze\",\"number_of_medals\"]].sum().sort_values(ascending = False,by = \"number_of_medals\").reset_index().drop(columns = \"number_of_medals\").rename(columns = {\"region\":\"Country\"})"
   ]
  },
  {
   "cell_type": "code",
   "execution_count": null,
   "id": "8fb16037-9c22-40f8-b2e1-735691e14c0b",
   "metadata": {},
   "outputs": [],
   "source": [
    "df.drop_duplicates(subset=[\"Team\", \"NOC\", \"Year\", \"Sport\", \"Event\", \"Medal\"]).groupby(\"region\")[['Gold', 'Silver', 'Bronze']].sum().assign(Total=lambda df: df.sum(axis=1)).sort_values(by=['Gold', 'Silver', 'Bronze'], ascending=False).rename_axis('Country')"
   ]
  },
  {
   "cell_type": "code",
   "execution_count": null,
   "id": "ae02acfc-0a36-4b56-8d97-30f9bd33a62b",
   "metadata": {},
   "outputs": [],
   "source": []
  }
 ],
 "metadata": {
  "kernelspec": {
   "display_name": "Python 3 (ipykernel)",
   "language": "python",
   "name": "python3"
  },
  "language_info": {
   "codemirror_mode": {
    "name": "ipython",
    "version": 3
   },
   "file_extension": ".py",
   "mimetype": "text/x-python",
   "name": "python",
   "nbconvert_exporter": "python",
   "pygments_lexer": "ipython3",
   "version": "3.13.3"
  }
 },
 "nbformat": 4,
 "nbformat_minor": 5
}
